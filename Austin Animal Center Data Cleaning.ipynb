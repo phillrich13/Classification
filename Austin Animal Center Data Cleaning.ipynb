{
 "cells": [
  {
   "cell_type": "code",
   "execution_count": 1,
   "id": "16322a68-24f5-4066-82bb-e0c132f01fe1",
   "metadata": {},
   "outputs": [],
   "source": [
    "import pandas as pd\n",
    "import numpy as np\n",
    "import datetime as dt\n",
    "\n",
    "\n"
   ]
  },
  {
   "cell_type": "markdown",
   "id": "75823782-75d1-4365-b633-721e1b609a00",
   "metadata": {},
   "source": [
    "## Importing data from Austin Animal Center"
   ]
  },
  {
   "cell_type": "code",
   "execution_count": 24,
   "id": "2559e90a-f5c6-4647-86d5-01a4b5bed2bf",
   "metadata": {},
   "outputs": [],
   "source": [
    "outcomes = pd.read_csv(r'/Users/philliprichardson/Metis/Module 4/Full Process.csv')\n"
   ]
  },
  {
   "cell_type": "markdown",
   "id": "ac57a5ab-5b48-47be-a052-70dd935cd4c7",
   "metadata": {},
   "source": [
    "## Feature Cleaning and Creation"
   ]
  },
  {
   "cell_type": "code",
   "execution_count": 25,
   "id": "735eb618-0ab1-4512-abaf-31b54e659534",
   "metadata": {},
   "outputs": [],
   "source": [
    "def city_agg(inp):\n",
    "    if inp == 'Austin':\n",
    "        return 'Austin'\n",
    "    elif inp == 'Travis':\n",
    "        return 'Travis'\n",
    "    else:\n",
    "        return 'Other'\n",
    "    \n",
    "def age_group(inp):\n",
    "    grp = inp.split()\n",
    "    if grp[1] == 'weeks' and int(grp[0])  <= 6:\n",
    "        return 'Neonatal'\n",
    "    elif (grp[1] == 'weeks' and int(grp[0])  > 6) or grp[1] == 'months' or inp == \"0 years\":\n",
    "        return 'Young'\n",
    "    elif grp[1] == 'years' and int(grp[0])  < 10:\n",
    "        return 'Adult'\n",
    "    elif int(grp[0]) >= 0:\n",
    "        return 'Senior'\n",
    "    else:\n",
    "        return ''\n",
    "\n",
    "def outcome_grp(inp):\n",
    "    if inp in ('Adoption', 'Rto-Adopt'):\n",
    "        return 'Adoption'\n",
    "    elif inp in ('Died', 'Euthanasia'):\n",
    "        return 'Euthanised'\n",
    "    else:\n",
    "        return 'Transfered/RTO'\n",
    "\n",
    "def multi_vist(inp):\n",
    "    if inp == 0:\n",
    "        return \"First Visit\"\n",
    "    elif inp < 3:\n",
    "        return \"Repeat\"\n",
    "    else:\n",
    "        return \"Frequent\"\n",
    "    \n",
    "def condition(inp):\n",
    "    if inp in ('Behavior', 'Feral'):\n",
    "        return \"Behavior Issues\"\n",
    "    elif inp in ('Injured', 'Medical', 'Nursing', 'Pregnant', 'Sick'):\n",
    "        return \"Medical Issues\"\n",
    "    else:\n",
    "        return 'Normal'\n"
   ]
  },
  {
   "cell_type": "code",
   "execution_count": 28,
   "id": "73d2693b-779c-44d1-9007-829a5d5bf23a",
   "metadata": {},
   "outputs": [],
   "source": [
    "outcomes['city'] = outcomes.FoundLocation.str.split().str[-2]\n",
    "\n",
    "outcomes['city'] = outcomes.city.apply(lambda x: city_agg(x))\n",
    "\n",
    "outcomes['Male'] = (outcomes.SexuponIntake.str.split().str[1] == 'Male').astype(int)\n",
    "\n",
    "outcomes['Dog'] = (outcomes.AnimalType == 'Dog').astype(int)\n",
    "\n",
    "outcomes['birthcontrol'] = (outcomes.SexuponIntake.str.split().str[0] != 'Intact').astype(int)\n",
    "\n",
    "outcomes['age_group'] = outcomes.AgeuponIntake.apply(lambda x: age_group(x))\n",
    "\n",
    "outcomes['normal_hours'] = ((pd.to_datetime(outcomes.DateTime).dt.time > dt.time(7,0,0)) & (pd.to_datetime(outcomes.DateTime).dt.time < dt.time(19,0,0))).astype(int)\n",
    "\n",
    "outcomes['multicolor'] = (outcomes.Color.str.count('/') > 0).astype(int)\n",
    "\n",
    "outcomes['mixed breed']= (outcomes.Breed.str.count('Mix')>0).astype(int)\n",
    "\n",
    "outcomes['outcome'] = outcomes.OutcomeType.apply(lambda x: outcome_grp(x))\n",
    "\n",
    "outcomes['multi_visit'] = outcomes.prior_occurs.apply(lambda x: multi_vist(x))\n",
    "\n",
    "outcomes['condition'] = outcomes.IntakeCondition.apply(lambda x: condition(x))"
   ]
  },
  {
   "cell_type": "markdown",
   "id": "8fbf940a-2c0d-4407-a0bc-fbc482633a5d",
   "metadata": {},
   "source": [
    "## Feature Selection, Data Filtering, One-Hot Encoding"
   ]
  },
  {
   "cell_type": "code",
   "execution_count": 29,
   "id": "bf1141ec-0452-4266-b17c-02c3cbd7eda3",
   "metadata": {},
   "outputs": [],
   "source": [
    "keep = ['AnimalID', 'IntakeType', 'condition', 'AnimalType', 'Dog', 'outcome', 'staylength', \n",
    "        'multi_visit', 'city', 'Male', 'birthcontrol', 'age_group', 'normal_hours', 'multicolor', 'mixed breed']\n",
    "\n",
    "outcomes_feats = outcomes[keep]"
   ]
  },
  {
   "cell_type": "code",
   "execution_count": 30,
   "id": "2da58617-dc68-485b-b24f-8dd8906ae879",
   "metadata": {},
   "outputs": [],
   "source": [
    "mask = (outcomes_feats['AnimalType'] == 'Dog') | (outcomes_feats['AnimalType'] == 'Cat')\n",
    "\n",
    "outcomes_filtered = outcomes_feats[mask]"
   ]
  },
  {
   "cell_type": "code",
   "execution_count": 31,
   "id": "82b4addc-9bbd-4ab4-89c5-ab017c5bbd28",
   "metadata": {},
   "outputs": [],
   "source": [
    "features = ['IntakeType', 'condition', 'Dog',  'multi_visit', 'city', 'Male', \n",
    "            'birthcontrol', 'age_group', 'normal_hours', 'multicolor', 'mixed breed']\n",
    "\n",
    "feats_dummy = pd.get_dummies(outcomes_filtered[features], columns = ['IntakeType', 'condition','multi_visit', 'city', 'age_group'])\n",
    "outcome = outcomes_filtered.outcome"
   ]
  },
  {
   "cell_type": "markdown",
   "id": "1b7146ac-1302-4052-8d47-0c2b8ab59092",
   "metadata": {},
   "source": [
    "## Exporting to Pickles for using in other programs"
   ]
  },
  {
   "cell_type": "code",
   "execution_count": 139,
   "id": "3e97bfff-55b9-4901-aea4-582527c8d4b6",
   "metadata": {},
   "outputs": [],
   "source": [
    "feats_dummy.to_pickle(r'/Users/philliprichardson/Metis/Module 4/feats.pkl')\n",
    "\n",
    "outcome.to_pickle(r'/Users/philliprichardson/Metis/Module 4/outcome.pkl')"
   ]
  }
 ],
 "metadata": {
  "kernelspec": {
   "display_name": "Python [conda env:metis] *",
   "language": "python",
   "name": "conda-env-metis-py"
  },
  "language_info": {
   "codemirror_mode": {
    "name": "ipython",
    "version": 3
   },
   "file_extension": ".py",
   "mimetype": "text/x-python",
   "name": "python",
   "nbconvert_exporter": "python",
   "pygments_lexer": "ipython3",
   "version": "3.8.8"
  }
 },
 "nbformat": 4,
 "nbformat_minor": 5
}
