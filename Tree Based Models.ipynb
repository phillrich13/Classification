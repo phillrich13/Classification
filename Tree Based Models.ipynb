{
 "cells": [
  {
   "cell_type": "code",
   "execution_count": 149,
   "id": "2dd77080-2e5d-4940-b22f-bfb7b62a9d72",
   "metadata": {},
   "outputs": [],
   "source": [
    "from sklearn.tree import DecisionTreeClassifier\n",
    "from sklearn.ensemble import RandomForestClassifier\n",
    "from sklearn.model_selection import train_test_split, KFold, StratifiedKFold, cross_val_score\n",
    "from sklearn.metrics import accuracy_score, confusion_matrix, classification_report, f1_score, make_scorer, recall_score\n",
    "from sklearn.linear_model import LogisticRegression\n",
    "from sklearn.model_selection import RandomizedSearchCV, GridSearchCV\n",
    "\n",
    "import pandas as pd\n",
    "import numpy as np\n",
    "\n",
    "import matplotlib.pyplot as plt\n",
    "import seaborn as sns\n",
    "%matplotlib inline"
   ]
  },
  {
   "cell_type": "markdown",
   "id": "cbc84ff8-52e6-4191-acd1-7ddaca417876",
   "metadata": {},
   "source": [
    "## Import Pickles of Data"
   ]
  },
  {
   "cell_type": "code",
   "execution_count": 2,
   "id": "1bc8fb3b-b71f-40e3-acb8-26f278ab1198",
   "metadata": {},
   "outputs": [],
   "source": [
    "feats_dummy = pd.read_pickle(r'/Users/philliprichardson/Metis/Module 4/feats.pkl')\n",
    "outcome = pd.read_pickle(r'/Users/philliprichardson/Metis/Module 4/outcome.pkl')"
   ]
  },
  {
   "cell_type": "markdown",
   "id": "1102092c-6d6f-4a3f-97b3-3c9ad708f26c",
   "metadata": {},
   "source": [
    "## Baseline Model"
   ]
  },
  {
   "cell_type": "code",
   "execution_count": 179,
   "id": "d7dc2615-aeba-40cf-a5ed-8779e24f29ef",
   "metadata": {},
   "outputs": [],
   "source": [
    "kf2 = StratifiedKFold(n_splits = 3, random_state = 13, shuffle = True)\n",
    "randomforest_bal = RandomForestClassifier(class_weight = 'balanced')\n",
    "\n",
    "randomforest_bal.fit(xtrain, ytrain)"
   ]
  },
  {
   "cell_type": "markdown",
   "id": "fa5d1255-f280-4294-a68e-f4868d913736",
   "metadata": {},
   "source": [
    "## Hyperparameter Tuning with Random Search CV on weighted recall"
   ]
  },
  {
   "cell_type": "code",
   "execution_count": 180,
   "id": "8be59be2-1c92-4e5b-8375-f474257c28b3",
   "metadata": {
    "tags": []
   },
   "outputs": [],
   "source": [
    "# Hyperparameter tuning\n",
    "\n",
    "# Number of trees in random forest\n",
    "n_estimators = [int(x) for x in np.linspace(start = 10, stop = 250, num = 25)]\n",
    "# Number of features to consider at every split\n",
    "max_features = [3, 4, 5, 6, 7, 8, 9, 10]\n",
    "# Maximum number of levels in tree\n",
    "max_depth = [int(x) for x in np.linspace(1, 15, num = 15)]\n",
    "max_depth.append(None)\n",
    "# Minimum number of samples required to split a node\n",
    "min_samples_split = [2, 5, 7,  10]\n",
    "# Minimum number of samples required at each leaf node\n",
    "min_samples_leaf = [1, 2, 5]\n",
    "\n"
   ]
  },
  {
   "cell_type": "code",
   "execution_count": 181,
   "id": "71380cc9-df29-4364-8b2a-b614dcfab5b0",
   "metadata": {},
   "outputs": [],
   "source": [
    "random_grid = {'n_estimators': n_estimators,\n",
    "               'max_features': max_features,\n",
    "               'max_depth': max_depth,\n",
    "               'min_samples_split': min_samples_split,\n",
    "               'min_samples_leaf': min_samples_leaf,\n",
    "               'class_weight': ['balanced']}"
   ]
  },
  {
   "cell_type": "code",
   "execution_count": 239,
   "id": "93646c73-2045-4738-a276-fbd7d0864e5b",
   "metadata": {},
   "outputs": [],
   "source": [
    "rf_rand = RandomizedSearchCV(estimator = randomforest_bal, \n",
    "                             n_iter = 100, \n",
    "                             cv = kf2, \n",
    "                             random_state = 13, \n",
    "                             param_distributions = random_grid, \n",
    "                             verbose = 1, \n",
    "                             scoring = make_scorer(recall_score, average = 'weighted'))"
   ]
  },
  {
   "cell_type": "code",
   "execution_count": 192,
   "id": "4d868329-8ee8-4ee5-8285-83f134b1e915",
   "metadata": {},
   "outputs": [
    {
     "name": "stdout",
     "output_type": "stream",
     "text": [
      "Fitting 3 folds for each of 100 candidates, totalling 300 fits\n"
     ]
    },
    {
     "data": {
      "text/plain": [
       "RandomizedSearchCV(cv=StratifiedKFold(n_splits=3, random_state=13, shuffle=True),\n",
       "                   estimator=RandomForestClassifier(), n_iter=100,\n",
       "                   param_distributions={'bootstrap': [True, False],\n",
       "                                        'class_weight': ['balanced'],\n",
       "                                        'max_depth': [1, 2, 3, 4, 5, 6, 7, 8, 9,\n",
       "                                                      10, 11, 12, 13, 14, 15,\n",
       "                                                      None],\n",
       "                                        'max_features': [3, 4, 5, 6, 7, 8, 9,\n",
       "                                                         10],\n",
       "                                        'min_samples_leaf': [1, 2, 5],\n",
       "                                        'min_samples_split': [2, 5, 7, 10],\n",
       "                                        'n_estimators': [100, 200, 300, 400,\n",
       "                                                         500, 600, 700, 800,\n",
       "                                                         900, 1000]},\n",
       "                   random_state=13,\n",
       "                   scoring=make_scorer(recall_score, average=weighted),\n",
       "                   verbose=1)"
      ]
     },
     "execution_count": 192,
     "metadata": {},
     "output_type": "execute_result"
    }
   ],
   "source": [
    "rf_rand.fit(xtrain, ytrain)"
   ]
  },
  {
   "cell_type": "markdown",
   "id": "54c0a8d9-93d6-45b9-8564-ffcd7ff885da",
   "metadata": {},
   "source": [
    "## Comparing Tuned to Baseline"
   ]
  },
  {
   "cell_type": "code",
   "execution_count": 195,
   "id": "cfb6c6b8-5f9d-4797-82a3-8cd52353f214",
   "metadata": {},
   "outputs": [
    {
     "data": {
      "text/plain": [
       "(0.6435931568308436, 0.6128777794211901)"
      ]
     },
     "execution_count": 195,
     "metadata": {},
     "output_type": "execute_result"
    }
   ],
   "source": [
    "best_rand = rf_rand.best_estimator_\n",
    "\n",
    "recall_score(ytest, randomforest_bal.predict(xtest), average = 'weighted'), recall_score(ytest, best_rand.predict(xtest), average = 'weighted')\n",
    "\n"
   ]
  },
  {
   "cell_type": "code",
   "execution_count": 194,
   "id": "cffa7cd8-623c-4b37-8020-ae1e6b9e4102",
   "metadata": {},
   "outputs": [
    {
     "data": {
      "text/plain": [
       "{'n_estimators': 1000,\n",
       " 'min_samples_split': 10,\n",
       " 'min_samples_leaf': 1,\n",
       " 'max_features': 3,\n",
       " 'max_depth': 10,\n",
       " 'class_weight': 'balanced',\n",
       " 'bootstrap': True}"
      ]
     },
     "execution_count": 194,
     "metadata": {},
     "output_type": "execute_result"
    }
   ],
   "source": [
    "rf_rand.best_params_"
   ]
  },
  {
   "cell_type": "markdown",
   "id": "4d50c841-2643-490a-bd24-58b06be9757a",
   "metadata": {},
   "source": [
    "## Tuning in space around the best params from random search on weighted recall"
   ]
  },
  {
   "cell_type": "code",
   "execution_count": 197,
   "id": "74e2bca5-03b7-461b-99f4-ecec427ad504",
   "metadata": {
    "tags": []
   },
   "outputs": [],
   "source": [
    "params= {'n_estimators': [900, 1000],\n",
    " 'min_samples_split': [9, 10 , 11],\n",
    " 'min_samples_leaf': [1, 2, 3],\n",
    " 'max_features': [3, 4, 5],\n",
    " 'max_depth': [9, 10, 11],\n",
    " 'bootstrap': [True]}"
   ]
  },
  {
   "cell_type": "code",
   "execution_count": 198,
   "id": "3537646e-28f9-4937-be15-e1765bc1bb7a",
   "metadata": {},
   "outputs": [],
   "source": [
    "grid_search = GridSearchCV(estimator = randomforest_bal, param_grid = params, \n",
    "                          cv = kf2, n_jobs = -1, scoring = make_scorer(recall_score, average = 'weighted'))"
   ]
  },
  {
   "cell_type": "code",
   "execution_count": 199,
   "id": "2cb2234e-c27e-45be-948e-515539cc2d8b",
   "metadata": {},
   "outputs": [
    {
     "name": "stderr",
     "output_type": "stream",
     "text": [
      "/Users/philliprichardson/opt/anaconda3/envs/metis/lib/python3.8/site-packages/joblib/externals/loky/process_executor.py:688: UserWarning: A worker stopped while some jobs were given to the executor. This can be caused by a too short worker timeout or by a memory leak.\n",
      "  warnings.warn(\n"
     ]
    }
   ],
   "source": [
    "grid_search.fit(xtrain, ytrain)\n",
    "best_grid= grid_search.best_estimator_"
   ]
  },
  {
   "cell_type": "markdown",
   "id": "d2298e5b-9ee3-4926-8f1e-29e895260684",
   "metadata": {},
   "source": [
    "_________________________________________________________________\n",
    "## Hyperparameter Tuning with Random Search CV on macro recall"
   ]
  },
  {
   "cell_type": "code",
   "execution_count": 201,
   "id": "5e075385-7240-4d46-9afb-37035cdc4ce2",
   "metadata": {},
   "outputs": [
    {
     "name": "stdout",
     "output_type": "stream",
     "text": [
      "Fitting 3 folds for each of 100 candidates, totalling 300 fits\n"
     ]
    },
    {
     "data": {
      "text/plain": [
       "RandomizedSearchCV(cv=StratifiedKFold(n_splits=3, random_state=13, shuffle=True),\n",
       "                   estimator=RandomForestClassifier(), n_iter=100,\n",
       "                   param_distributions={'bootstrap': [True, False],\n",
       "                                        'class_weight': ['balanced'],\n",
       "                                        'max_depth': [1, 2, 3, 4, 5, 6, 7, 8, 9,\n",
       "                                                      10, 11, 12, 13, 14, 15,\n",
       "                                                      None],\n",
       "                                        'max_features': [3, 4, 5, 6, 7, 8, 9,\n",
       "                                                         10],\n",
       "                                        'min_samples_leaf': [1, 2, 5],\n",
       "                                        'min_samples_split': [2, 5, 7, 10],\n",
       "                                        'n_estimators': [100, 200, 300, 400,\n",
       "                                                         500, 600, 700, 800,\n",
       "                                                         900, 1000]},\n",
       "                   random_state=13,\n",
       "                   scoring=make_scorer(recall_score, average=macro), verbose=1)"
      ]
     },
     "execution_count": 201,
     "metadata": {},
     "output_type": "execute_result"
    }
   ],
   "source": [
    "rf_rand_macro = RandomizedSearchCV(estimator = randomforest_bal, \n",
    "                                   n_iter = 100, \n",
    "                                   cv = kf2, \n",
    "                                   random_state = 13, \n",
    "                                   param_distributions = random_grid, \n",
    "                                   verbose = 1, scoring = make_scorer(recall_score, average = 'macro'))\n",
    "\n",
    "rf_rand_macro.fit(xtrain, ytrain)"
   ]
  },
  {
   "cell_type": "code",
   "execution_count": 202,
   "id": "fc48fdbd-e20d-4a2d-8688-344bc515e240",
   "metadata": {},
   "outputs": [
    {
     "data": {
      "text/plain": [
       "{'n_estimators': 200,\n",
       " 'min_samples_split': 5,\n",
       " 'min_samples_leaf': 2,\n",
       " 'max_features': 8,\n",
       " 'max_depth': 9,\n",
       " 'class_weight': 'balanced',\n",
       " 'bootstrap': False}"
      ]
     },
     "execution_count": 202,
     "metadata": {},
     "output_type": "execute_result"
    }
   ],
   "source": [
    "rf_rand_macro.best_params_"
   ]
  },
  {
   "cell_type": "markdown",
   "id": "a7ad2a73-2e85-4813-83c6-bdadedbf571b",
   "metadata": {},
   "source": [
    "## Comparing Tuned to Baseline"
   ]
  },
  {
   "cell_type": "code",
   "execution_count": 205,
   "id": "9b4659b0-e045-4fb9-b2ce-0acdeab14b84",
   "metadata": {},
   "outputs": [
    {
     "data": {
      "text/plain": [
       "(0.5161305934983239, 0.6089321841609803)"
      ]
     },
     "execution_count": 205,
     "metadata": {},
     "output_type": "execute_result"
    }
   ],
   "source": [
    "best_rand_macro = rf_rand_macro.best_estimator_\n",
    "\n",
    "recall_score(ytrain,  randomforest_bal.predict(xtrain), average = 'macro'), recall_score(ytrain,  best_rand_macro.predict(xtrain), average = 'macro')"
   ]
  },
  {
   "cell_type": "markdown",
   "id": "991b5861-3f60-4c0c-84bd-81655916993c",
   "metadata": {},
   "source": [
    "## Tuning in space around the best params from random search on macro recall"
   ]
  },
  {
   "cell_type": "code",
   "execution_count": 230,
   "id": "96e4881f-4b79-43b2-91a1-082fd8d0047b",
   "metadata": {
    "tags": []
   },
   "outputs": [],
   "source": [
    "params_macro= {'n_estimators': [200, 300],\n",
    " 'min_samples_split': [4,5,6],\n",
    " 'min_samples_leaf': [1, 2, 3],\n",
    " 'max_features': [7,8, 9],\n",
    " 'max_depth': [8, 9, 10],\n",
    " 'class_weight': ['balanced'],\n",
    " 'bootstrap': [False]}"
   ]
  },
  {
   "cell_type": "code",
   "execution_count": 231,
   "id": "ece9d6f7-de67-4672-850f-15d47b02846f",
   "metadata": {},
   "outputs": [],
   "source": [
    "grid_search_macro = GridSearchCV(estimator = randomforest_bal, param_grid = params_macro, \n",
    "                          cv = kf2, n_jobs = -1, scoring = make_scorer(recall_score, average = 'macro'))"
   ]
  },
  {
   "cell_type": "code",
   "execution_count": 232,
   "id": "bdcc0ac2-8c84-4e47-a753-227ae7e98afe",
   "metadata": {},
   "outputs": [
    {
     "name": "stderr",
     "output_type": "stream",
     "text": [
      "/Users/philliprichardson/opt/anaconda3/envs/metis/lib/python3.8/site-packages/joblib/externals/loky/process_executor.py:688: UserWarning: A worker stopped while some jobs were given to the executor. This can be caused by a too short worker timeout or by a memory leak.\n",
      "  warnings.warn(\n"
     ]
    },
    {
     "data": {
      "text/plain": [
       "GridSearchCV(cv=StratifiedKFold(n_splits=3, random_state=13, shuffle=True),\n",
       "             estimator=RandomForestClassifier(), n_jobs=-1,\n",
       "             param_grid={'bootstrap': [False], 'class_weight': ['balanced'],\n",
       "                         'max_depth': [8, 9, 10], 'max_features': [7, 8, 9],\n",
       "                         'min_samples_leaf': [1, 2, 3],\n",
       "                         'min_samples_split': [4, 5, 6],\n",
       "                         'n_estimators': [200, 300]},\n",
       "             scoring=make_scorer(recall_score, average=macro))"
      ]
     },
     "execution_count": 232,
     "metadata": {},
     "output_type": "execute_result"
    }
   ],
   "source": [
    "grid_search_macro.fit(xtrain, ytrain)\n"
   ]
  },
  {
   "cell_type": "code",
   "execution_count": 235,
   "id": "fa5838f1-1bdb-449e-bbf6-5de099eb17aa",
   "metadata": {},
   "outputs": [],
   "source": [
    "# grid_search_macro.cv_results_\n",
    "recall_score(ytrain,  randomforest_bal.predict(xtrain), average = 'macro'), recall_score(ytrain,  best_rand_macro.predict(xtrain), average = 'macro'), recall_score(ytrain,  grid_search_macro.predict(xtrain), average = 'macro')\n",
    "best_grid_macro = grid_search_macro.best_estimator_"
   ]
  },
  {
   "cell_type": "markdown",
   "id": "03bf18ce-ae7a-416d-a43d-33813c39efc8",
   "metadata": {},
   "source": [
    "## Final Comparison for macro Recall across the 3 models"
   ]
  },
  {
   "cell_type": "code",
   "execution_count": 247,
   "id": "0e6f6f0e-399e-4990-884e-a2f6d54dc867",
   "metadata": {},
   "outputs": [
    {
     "name": "stdout",
     "output_type": "stream",
     "text": [
      "0.5701733442452883 0.5974690460601023 0.5976874624586557\n"
     ]
    }
   ],
   "source": [
    "# CV scores\n",
    "\n",
    "print(np.mean(cross_val_score(randomforest_bal, xtrain, ytrain, cv=kf2, scoring = make_scorer(recall_score, average = 'macro'))),np.mean(cross_val_score(best_rand_macro, xtrain, ytrain, cv=kf2, scoring = make_scorer(recall_score, average = 'macro'))), \n",
    "np.mean(cross_val_score(best_grid_macro, xtrain, ytrain, cv=kf2, scoring = make_scorer(recall_score, average = 'macro'))))\n"
   ]
  },
  {
   "cell_type": "code",
   "execution_count": 248,
   "id": "ed0df6ce-bd71-45e0-9999-f296c22f829e",
   "metadata": {},
   "outputs": [
    {
     "data": {
      "text/plain": [
       "(0.5819533254979122, 0.603205693731695, 0.6029973475904136)"
      ]
     },
     "execution_count": 248,
     "metadata": {},
     "output_type": "execute_result"
    }
   ],
   "source": [
    "# Test Scores\n",
    "\n",
    "recall_score(ytest,  randomforest_bal.predict(xtest), average = 'macro'), recall_score(ytest,  best_rand_macro.predict(xtest), average = 'macro'), recall_score(ytest,  grid_search_macro.predict(xtest), average = 'macro')\n"
   ]
  },
  {
   "cell_type": "markdown",
   "id": "0dfec011-818a-4744-a0b2-b7d231176344",
   "metadata": {},
   "source": [
    "## Random Search Model was selected"
   ]
  },
  {
   "cell_type": "markdown",
   "id": "afc82070-9da3-41b5-b412-3551fd3f8efc",
   "metadata": {},
   "source": [
    "____________________________________________________\n",
    "## Plotting and Exploring the selected model"
   ]
  },
  {
   "cell_type": "code",
   "execution_count": 321,
   "id": "88901d42-5409-4b4e-98a2-63c9cdf41c33",
   "metadata": {},
   "outputs": [],
   "source": [
    "feature_importance = pd.DataFrame(feats_dummy.columns).merge(pd.DataFrame(best_rand_macro.feature_importances_), left_index = True, right_index = True)\n",
    "\n",
    "feature_importance.columns = ['Feature', 'Importance']\n",
    "\n",
    "feature_importance.sort_values(by = 'Importance', inplace = True, ignore_index = True, ascending = False)\n",
    "\n",
    "plot = feature_importance.iloc[:10].copy()\n",
    "\n",
    "plot.Feature = ['Medical Issues', 'Normal Condition', 'Spayed/Neutered', 'Kitten/Puppy', 'Owner Surrendered', 'Public Assist', 'Dog/Cat', 'Neonatal', 'Stray', 'Euthanasia Request']\n"
   ]
  },
  {
   "cell_type": "code",
   "execution_count": 269,
   "id": "71e71e66-24dd-4b5a-86f5-e7baec40a145",
   "metadata": {},
   "outputs": [
    {
     "data": {
      "image/png": "[encoded data removed]",
      "text/plain": [
       "<Figure size 864x576 with 1 Axes>"
      ]
     },
     "metadata": {
      "needs_background": "light"
     },
     "output_type": "display_data"
    }
   ],
   "source": [
    "plt.figure(figsize=(12,8))\n",
    "plt.title(\"Top 10 Features by Importance for Predicting Outcomes of Animal Intake\")\n",
    "sns.barplot(y = 'Feature', x = 'Importance', data=plot, color = 'blue');"
   ]
  },
  {
   "cell_type": "code",
   "execution_count": 254,
   "id": "860fee03-9d8c-4b11-8bd2-67d82f1061ca",
   "metadata": {},
   "outputs": [],
   "source": [
    "arr = confusion_matrix(ytest, best_rand_macro.predict(xtest), normalize = 'true')\n",
    "conf_mat = pd.DataFrame(arr, columns = ['Adoption', 'Euthanasia', 'Transfer/RTO'], index = ['Adoption', 'Euthanasia', 'Transfer/RTO'])"
   ]
  },
  {
   "cell_type": "code",
   "execution_count": 300,
   "id": "d221813b-9a4b-443a-9426-2d2a33d714b7",
   "metadata": {},
   "outputs": [
    {
     "data": {
      "image/png": "[encoded data removed]",
      "text/plain": [
       "<Figure size 432x288 with 2 Axes>"
      ]
     },
     "metadata": {
      "needs_background": "light"
     },
     "output_type": "display_data"
    }
   ],
   "source": [
    "sns.heatmap(data = conf_mat, annot = True, cmap = 'Blues')\n",
    "plt.tick_params(axis='both', which='major', labelsize=10, labelbottom = False, bottom=False, top = False, labeltop=True);"
   ]
  },
  {
   "cell_type": "code",
   "execution_count": 314,
   "id": "cd275f29-6024-42a7-90a6-553955b2f1fd",
   "metadata": {},
   "outputs": [
    {
     "data": {
      "text/plain": [
       "Adoption          0.586402\n",
       "Transfered/RTO    0.297343\n",
       "Euthanised        0.116255\n",
       "dtype: float64"
      ]
     },
     "execution_count": 314,
     "metadata": {},
     "output_type": "execute_result"
    }
   ],
   "source": [
    "pd.DataFrame(best_rand_macro.predict(xtest)).value_counts()/ len(best_rand_macro.predict(xtest))"
   ]
  },
  {
   "cell_type": "code",
   "execution_count": 320,
   "id": "df61f432-1abe-49c0-a7cc-38c453bb0a45",
   "metadata": {},
   "outputs": [
    {
     "data": {
      "text/plain": [
       "Transfered/RTO    0.499482\n",
       "Adoption          0.461174\n",
       "Euthanised        0.039343\n",
       "Name: outcome, dtype: float64"
      ]
     },
     "execution_count": 320,
     "metadata": {},
     "output_type": "execute_result"
    }
   ],
   "source": [
    "ytest.value_counts()/sum(ytest.value_counts())"
   ]
  },
  {
   "cell_type": "code",
   "execution_count": 281,
   "id": "967e591e-0c98-469c-a8c0-5b6143e5990c",
   "metadata": {},
   "outputs": [],
   "source": [
    "explore = xtest.merge(pd.DataFrame(best_rand_macro.predict_proba(xtest), columns = ['adopt', 'euth', 'RTO']), left_index = True, right_index = True)"
   ]
  },
  {
   "cell_type": "code",
   "execution_count": 304,
   "id": "a0e620b0-f4e3-4df9-bcd7-bf81ae3aafd7",
   "metadata": {},
   "outputs": [],
   "source": [
    "check = explore[['condition_Normal', 'condition_Medical Issues', 'IntakeType_Stray', 'adopt', 'euth', 'RTO' ]]"
   ]
  }
 ],
 "metadata": {
  "kernelspec": {
   "display_name": "Python [conda env:metis] *",
   "language": "python",
   "name": "conda-env-metis-py"
  },
  "language_info": {
   "codemirror_mode": {
    "name": "ipython",
    "version": 3
   },
   "file_extension": ".py",
   "mimetype": "text/x-python",
   "name": "python",
   "nbconvert_exporter": "python",
   "pygments_lexer": "ipython3",
   "version": "3.8.8"
  }
 },
 "nbformat": 4,
 "nbformat_minor": 5
}
