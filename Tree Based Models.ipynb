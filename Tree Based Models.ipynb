{
 "cells": [
  {
   "cell_type": "code",
   "execution_count": 149,
   "id": "2dd77080-2e5d-4940-b22f-bfb7b62a9d72",
   "metadata": {},
   "outputs": [],
   "source": [
    "from sklearn.tree import DecisionTreeClassifier\n",
    "from sklearn.ensemble import RandomForestClassifier\n",
    "from sklearn.model_selection import train_test_split, KFold, StratifiedKFold, cross_val_score\n",
    "from sklearn.metrics import accuracy_score, confusion_matrix, classification_report, f1_score, make_scorer, recall_score\n",
    "from sklearn.linear_model import LogisticRegression\n",
    "from sklearn.model_selection import RandomizedSearchCV, GridSearchCV\n",
    "\n",
    "import pandas as pd\n",
    "import numpy as np\n",
    "\n",
    "import matplotlib.pyplot as plt\n",
    "import seaborn as sns\n",
    "%matplotlib inline"
   ]
  },
  {
   "cell_type": "code",
   "execution_count": 2,
   "id": "1bc8fb3b-b71f-40e3-acb8-26f278ab1198",
   "metadata": {},
   "outputs": [],
   "source": [
    "feats_dummy = pd.read_pickle(r'/Users/philliprichardson/Metis/Module 4/feats.pkl')\n",
    "outcome = pd.read_pickle(r'/Users/philliprichardson/Metis/Module 4/outcome.pkl')"
   ]
  },
  {
   "cell_type": "code",
   "execution_count": 249,
   "id": "97298bc4-95ad-4070-8e80-befab1347872",
   "metadata": {},
   "outputs": [],
   "source": [
    "kf = StratifiedKFold(n_splits = 5, random_state = 13, shuffle = True)\n",
    "\n",
    "\n",
    "def quick_test(model, X, y):\n",
    "    xtrain, xtest, ytrain, ytest = train_test_split(X, y, test_size=0.2, stratify = y, random_state = 13)\n",
    "    model.fit(xtrain, ytrain)\n",
    "    y_pred = model.predict(xtest)\n",
    "    score = np.mean(cross_val_score(model, X, y, cv=kf, scoring = make_scorer(recall_score, average = 'macro')))\n",
    "    fitting = np.std(cross_val_score(model, X, y, cv=kf, scoring = make_scorer(recall_score, average = 'macro')))\n",
    "    return score, fitting\n"
   ]
  },
  {
   "cell_type": "code",
   "execution_count": 179,
   "id": "d7dc2615-aeba-40cf-a5ed-8779e24f29ef",
   "metadata": {},
   "outputs": [],
   "source": [
    "kf2 = StratifiedKFold(n_splits = 3, random_state = 13, shuffle = True)"
   ]
  },
  {
   "cell_type": "code",
   "execution_count": 180,
   "id": "8be59be2-1c92-4e5b-8375-f474257c28b3",
   "metadata": {},
   "outputs": [],
   "source": [
    "# Hyperparameter tuning\n",
    "\n",
    "# Number of trees in random forest\n",
    "n_estimators = [int(x) for x in np.linspace(start = 10, stop = 250, num = 25)]\n",
    "# Number of features to consider at every split\n",
    "max_features = [3, 4, 5, 6, 7, 8, 9, 10]\n",
    "# Maximum number of levels in tree\n",
    "max_depth = [int(x) for x in np.linspace(1, 15, num = 15)]\n",
    "max_depth.append(None)\n",
    "# Minimum number of samples required to split a node\n",
    "min_samples_split = [2, 5, 7,  10]\n",
    "# Minimum number of samples required at each leaf node\n",
    "min_samples_leaf = [1, 2, 5]\n",
    "\n"
   ]
  },
  {
   "cell_type": "code",
   "execution_count": 181,
   "id": "71380cc9-df29-4364-8b2a-b614dcfab5b0",
   "metadata": {},
   "outputs": [],
   "source": [
    "random_grid = {'n_estimators': n_estimators,\n",
    "               'max_features': max_features,\n",
    "               'max_depth': max_depth,\n",
    "               'min_samples_split': min_samples_split,\n",
    "               'min_samples_leaf': min_samples_leaf,\n",
    "               'class_weight': ['balanced']}"
   ]
  },
  {
   "cell_type": "code",
   "execution_count": 239,
   "id": "93646c73-2045-4738-a276-fbd7d0864e5b",
   "metadata": {},
   "outputs": [],
   "source": [
    "randomforest_bal = RandomForestClassifier(class_weight = 'balanced')\n",
    "\n",
    "randomforest_bal.fit(xtrain, ytrain)\n",
    "\n",
    "rf_rand = RandomizedSearchCV(estimator = randomforest_bal, n_iter = 100, cv = kf2, random_state = 13, param_distributions = random_grid, verbose = 1, scoring = make_scorer(recall_score, average = 'weighted'))"
   ]
  },
  {
   "cell_type": "code",
   "execution_count": 192,
   "id": "4d868329-8ee8-4ee5-8285-83f134b1e915",
   "metadata": {},
   "outputs": [
    {
     "name": "stdout",
     "output_type": "stream",
     "text": [
      "Fitting 3 folds for each of 100 candidates, totalling 300 fits\n"
     ]
    },
    {
     "data": {
      "text/plain": [
       "RandomizedSearchCV(cv=StratifiedKFold(n_splits=3, random_state=13, shuffle=True),\n",
       "                   estimator=RandomForestClassifier(), n_iter=100,\n",
       "                   param_distributions={'bootstrap': [True, False],\n",
       "                                        'class_weight': ['balanced'],\n",
       "                                        'max_depth': [1, 2, 3, 4, 5, 6, 7, 8, 9,\n",
       "                                                      10, 11, 12, 13, 14, 15,\n",
       "                                                      None],\n",
       "                                        'max_features': [3, 4, 5, 6, 7, 8, 9,\n",
       "                                                         10],\n",
       "                                        'min_samples_leaf': [1, 2, 5],\n",
       "                                        'min_samples_split': [2, 5, 7, 10],\n",
       "                                        'n_estimators': [100, 200, 300, 400,\n",
       "                                                         500, 600, 700, 800,\n",
       "                                                         900, 1000]},\n",
       "                   random_state=13,\n",
       "                   scoring=make_scorer(recall_score, average=weighted),\n",
       "                   verbose=1)"
      ]
     },
     "execution_count": 192,
     "metadata": {},
     "output_type": "execute_result"
    }
   ],
   "source": [
    "rf_rand.fit(xtrain, ytrain)"
   ]
  },
  {
   "cell_type": "code",
   "execution_count": 195,
   "id": "cfb6c6b8-5f9d-4797-82a3-8cd52353f214",
   "metadata": {},
   "outputs": [
    {
     "data": {
      "text/plain": [
       "(0.6435931568308436, 0.6128777794211901)"
      ]
     },
     "execution_count": 195,
     "metadata": {},
     "output_type": "execute_result"
    }
   ],
   "source": [
    "best_rand = rf_rand.best_estimator_\n",
    "\n",
    "recall_score(ytest, randomforest_bal.predict(xtest), average = 'weighted'), recall_score(ytest, best_rand.predict(xtest), average = 'weighted')\n",
    "\n"
   ]
  },
  {
   "cell_type": "code",
   "execution_count": 194,
   "id": "cffa7cd8-623c-4b37-8020-ae1e6b9e4102",
   "metadata": {},
   "outputs": [
    {
     "data": {
      "text/plain": [
       "{'n_estimators': 1000,\n",
       " 'min_samples_split': 10,\n",
       " 'min_samples_leaf': 1,\n",
       " 'max_features': 3,\n",
       " 'max_depth': 10,\n",
       " 'class_weight': 'balanced',\n",
       " 'bootstrap': True}"
      ]
     },
     "execution_count": 194,
     "metadata": {},
     "output_type": "execute_result"
    }
   ],
   "source": [
    "rf_rand.best_params_"
   ]
  },
  {
   "cell_type": "code",
   "execution_count": 197,
   "id": "74e2bca5-03b7-461b-99f4-ecec427ad504",
   "metadata": {
    "tags": []
   },
   "outputs": [],
   "source": [
    "params= {'n_estimators': [900, 1000],\n",
    " 'min_samples_split': [9, 10 , 11],\n",
    " 'min_samples_leaf': [1, 2, 3],\n",
    " 'max_features': [3, 4, 5],\n",
    " 'max_depth': [9, 10, 11],\n",
    " 'bootstrap': [True]}"
   ]
  },
  {
   "cell_type": "code",
   "execution_count": 198,
   "id": "3537646e-28f9-4937-be15-e1765bc1bb7a",
   "metadata": {},
   "outputs": [],
   "source": [
    "grid_search = GridSearchCV(estimator = randomforest_bal, param_grid = params, \n",
    "                          cv = kf2, n_jobs = -1, scoring = make_scorer(recall_score, average = 'weighted'))"
   ]
  },
  {
   "cell_type": "code",
   "execution_count": 199,
   "id": "2cb2234e-c27e-45be-948e-515539cc2d8b",
   "metadata": {},
   "outputs": [
    {
     "name": "stderr",
     "output_type": "stream",
     "text": [
      "/Users/philliprichardson/opt/anaconda3/envs/metis/lib/python3.8/site-packages/joblib/externals/loky/process_executor.py:688: UserWarning: A worker stopped while some jobs were given to the executor. This can be caused by a too short worker timeout or by a memory leak.\n",
      "  warnings.warn(\n"
     ]
    }
   ],
   "source": [
    "grid_search.fit(xtrain, ytrain)\n",
    "best_grid= grid_search.best_estimator_"
   ]
  },
  {
   "cell_type": "code",
   "execution_count": 240,
   "id": "cdcb455c-7b35-4dad-aad1-3df11eb46a12",
   "metadata": {},
   "outputs": [
    {
     "name": "stdout",
     "output_type": "stream",
     "text": [
      "BASE \n",
      "                 precision    recall  f1-score   support\n",
      "\n",
      "      Adoption       0.62      0.77      0.69     37412\n",
      "    Euthanised       0.20      0.64      0.31      3194\n",
      "Transfered/RTO       0.77      0.47      0.59     40522\n",
      "\n",
      "      accuracy                           0.62     81128\n",
      "     macro avg       0.53      0.63      0.53     81128\n",
      "  weighted avg       0.68      0.62      0.62     81128\n",
      " \n",
      " Random Search \n",
      "                 precision    recall  f1-score   support\n",
      "\n",
      "      Adoption       0.63      0.73      0.68     37412\n",
      "    Euthanised       0.21      0.58      0.30      3194\n",
      "Transfered/RTO       0.72      0.50      0.59     40522\n",
      "\n",
      "      accuracy                           0.61     81128\n",
      "     macro avg       0.52      0.61      0.52     81128\n",
      "  weighted avg       0.66      0.61      0.62     81128\n",
      " \n",
      " Grid Search \n",
      "                 precision    recall  f1-score   support\n",
      "\n",
      "      Adoption       0.63      0.73      0.67     37412\n",
      "    Euthanised       0.71      0.06      0.11      3194\n",
      "Transfered/RTO       0.67      0.62      0.65     40522\n",
      "\n",
      "      accuracy                           0.65     81128\n",
      "     macro avg       0.67      0.47      0.48     81128\n",
      "  weighted avg       0.65      0.65      0.64     81128\n",
      "\n"
     ]
    }
   ],
   "source": [
    "print('BASE', '\\n',classification_report(ytrain, randomforest_bal.predict(xtrain)), '\\n', 'Random Search', '\\n', classification_report(ytrain,  best_rand.predict(xtrain)), '\\n', 'Grid Search', '\\n',classification_report(ytrain,  best_grid.predict(xtrain)))"
   ]
  },
  {
   "cell_type": "code",
   "execution_count": 201,
   "id": "5e075385-7240-4d46-9afb-37035cdc4ce2",
   "metadata": {},
   "outputs": [
    {
     "name": "stdout",
     "output_type": "stream",
     "text": [
      "Fitting 3 folds for each of 100 candidates, totalling 300 fits\n"
     ]
    },
    {
     "data": {
      "text/plain": [
       "RandomizedSearchCV(cv=StratifiedKFold(n_splits=3, random_state=13, shuffle=True),\n",
       "                   estimator=RandomForestClassifier(), n_iter=100,\n",
       "                   param_distributions={'bootstrap': [True, False],\n",
       "                                        'class_weight': ['balanced'],\n",
       "                                        'max_depth': [1, 2, 3, 4, 5, 6, 7, 8, 9,\n",
       "                                                      10, 11, 12, 13, 14, 15,\n",
       "                                                      None],\n",
       "                                        'max_features': [3, 4, 5, 6, 7, 8, 9,\n",
       "                                                         10],\n",
       "                                        'min_samples_leaf': [1, 2, 5],\n",
       "                                        'min_samples_split': [2, 5, 7, 10],\n",
       "                                        'n_estimators': [100, 200, 300, 400,\n",
       "                                                         500, 600, 700, 800,\n",
       "                                                         900, 1000]},\n",
       "                   random_state=13,\n",
       "                   scoring=make_scorer(recall_score, average=macro), verbose=1)"
      ]
     },
     "execution_count": 201,
     "metadata": {},
     "output_type": "execute_result"
    }
   ],
   "source": [
    "rf_rand_macro = RandomizedSearchCV(estimator = randomforest_bal, n_iter = 100, cv = kf2, random_state = 13, param_distributions = random_grid, verbose = 1, scoring = make_scorer(recall_score, average = 'macro'))\n",
    "\n",
    "rf_rand_macro.fit(xtrain, ytrain)"
   ]
  },
  {
   "cell_type": "code",
   "execution_count": 202,
   "id": "fc48fdbd-e20d-4a2d-8688-344bc515e240",
   "metadata": {},
   "outputs": [
    {
     "data": {
      "text/plain": [
       "{'n_estimators': 200,\n",
       " 'min_samples_split': 5,\n",
       " 'min_samples_leaf': 2,\n",
       " 'max_features': 8,\n",
       " 'max_depth': 9,\n",
       " 'class_weight': 'balanced',\n",
       " 'bootstrap': False}"
      ]
     },
     "execution_count": 202,
     "metadata": {},
     "output_type": "execute_result"
    }
   ],
   "source": [
    "rf_rand_macro.best_params_"
   ]
  },
  {
   "cell_type": "code",
   "execution_count": 205,
   "id": "9b4659b0-e045-4fb9-b2ce-0acdeab14b84",
   "metadata": {},
   "outputs": [
    {
     "data": {
      "text/plain": [
       "(0.5161305934983239, 0.6089321841609803)"
      ]
     },
     "execution_count": 205,
     "metadata": {},
     "output_type": "execute_result"
    }
   ],
   "source": [
    "best_rand_macro = rf_rand_macro.best_estimator_\n",
    "\n",
    "recall_score(ytrain,  randomforest_bal.predict(xtrain), average = 'macro'), recall_score(ytrain,  best_rand_macro.predict(xtrain), average = 'macro')"
   ]
  },
  {
   "cell_type": "code",
   "execution_count": 230,
   "id": "96e4881f-4b79-43b2-91a1-082fd8d0047b",
   "metadata": {
    "tags": []
   },
   "outputs": [],
   "source": [
    "params_macro= {'n_estimators': [200, 300],\n",
    " 'min_samples_split': [4,5,6],\n",
    " 'min_samples_leaf': [1, 2, 3],\n",
    " 'max_features': [7,8, 9],\n",
    " 'max_depth': [8, 9, 10],\n",
    " 'class_weight': ['balanced'],\n",
    " 'bootstrap': [False]}"
   ]
  },
  {
   "cell_type": "code",
   "execution_count": 231,
   "id": "ece9d6f7-de67-4672-850f-15d47b02846f",
   "metadata": {},
   "outputs": [],
   "source": [
    "grid_search_macro = GridSearchCV(estimator = randomforest_bal, param_grid = params_macro, \n",
    "                          cv = kf2, n_jobs = -1, scoring = make_scorer(recall_score, average = 'macro'))"
   ]
  },
  {
   "cell_type": "code",
   "execution_count": 232,
   "id": "bdcc0ac2-8c84-4e47-a753-227ae7e98afe",
   "metadata": {},
   "outputs": [
    {
     "name": "stderr",
     "output_type": "stream",
     "text": [
      "/Users/philliprichardson/opt/anaconda3/envs/metis/lib/python3.8/site-packages/joblib/externals/loky/process_executor.py:688: UserWarning: A worker stopped while some jobs were given to the executor. This can be caused by a too short worker timeout or by a memory leak.\n",
      "  warnings.warn(\n"
     ]
    },
    {
     "data": {
      "text/plain": [
       "GridSearchCV(cv=StratifiedKFold(n_splits=3, random_state=13, shuffle=True),\n",
       "             estimator=RandomForestClassifier(), n_jobs=-1,\n",
       "             param_grid={'bootstrap': [False], 'class_weight': ['balanced'],\n",
       "                         'max_depth': [8, 9, 10], 'max_features': [7, 8, 9],\n",
       "                         'min_samples_leaf': [1, 2, 3],\n",
       "                         'min_samples_split': [4, 5, 6],\n",
       "                         'n_estimators': [200, 300]},\n",
       "             scoring=make_scorer(recall_score, average=macro))"
      ]
     },
     "execution_count": 232,
     "metadata": {},
     "output_type": "execute_result"
    }
   ],
   "source": [
    "grid_search_macro.fit(xtrain, ytrain)\n"
   ]
  },
  {
   "cell_type": "code",
   "execution_count": 235,
   "id": "fa5838f1-1bdb-449e-bbf6-5de099eb17aa",
   "metadata": {},
   "outputs": [],
   "source": [
    "# grid_search_macro.cv_results_\n",
    "recall_score(ytrain,  randomforest_bal.predict(xtrain), average = 'macro'), recall_score(ytrain,  best_rand_macro.predict(xtrain), average = 'macro'), recall_score(ytrain,  grid_search_macro.predict(xtrain), average = 'macro')\n",
    "best_grid_macro = grid_search_macro.best_estimator_"
   ]
  },
  {
   "cell_type": "code",
   "execution_count": 241,
   "id": "bf5ed2a8-5178-462a-a4c9-2d5f0200441f",
   "metadata": {},
   "outputs": [
    {
     "name": "stdout",
     "output_type": "stream",
     "text": [
      "BASE \n",
      "                 precision    recall  f1-score   support\n",
      "\n",
      "      Adoption       0.62      0.77      0.69     37412\n",
      "    Euthanised       0.20      0.64      0.31      3194\n",
      "Transfered/RTO       0.77      0.47      0.59     40522\n",
      "\n",
      "      accuracy                           0.62     81128\n",
      "     macro avg       0.53      0.63      0.53     81128\n",
      "  weighted avg       0.68      0.62      0.62     81128\n",
      " \n",
      " Random Search \n",
      "                 precision    recall  f1-score   support\n",
      "\n",
      "      Adoption       0.61      0.78      0.69     37412\n",
      "    Euthanised       0.19      0.60      0.29      3194\n",
      "Transfered/RTO       0.76      0.45      0.56     40522\n",
      "\n",
      "      accuracy                           0.61     81128\n",
      "     macro avg       0.52      0.61      0.51     81128\n",
      "  weighted avg       0.67      0.61      0.61     81128\n",
      " \n",
      " Grid Search \n",
      "                 precision    recall  f1-score   support\n",
      "\n",
      "      Adoption       0.61      0.78      0.69     37412\n",
      "    Euthanised       0.19      0.60      0.29      3194\n",
      "Transfered/RTO       0.76      0.45      0.56     40522\n",
      "\n",
      "      accuracy                           0.61     81128\n",
      "     macro avg       0.52      0.61      0.51     81128\n",
      "  weighted avg       0.67      0.61      0.61     81128\n",
      "\n"
     ]
    }
   ],
   "source": [
    "print('BASE', '\\n',classification_report(ytrain, randomforest_bal.predict(xtrain)), '\\n', 'Random Search', '\\n', classification_report(ytrain,  best_rand_macro.predict(xtrain)), '\\n', 'Grid Search', '\\n',classification_report(ytrain,  best_grid_macro.predict(xtrain)))"
   ]
  },
  {
   "cell_type": "code",
   "execution_count": 243,
   "id": "36a35755-795e-43c0-a2bf-b06a74136f17",
   "metadata": {},
   "outputs": [
    {
     "data": {
      "text/plain": [
       "(0.6273121496763193, 0.6089321841609803, 0.6090155081077061)"
      ]
     },
     "execution_count": 243,
     "metadata": {},
     "output_type": "execute_result"
    }
   ],
   "source": [
    "recall_score(ytrain,  randomforest_bal.predict(xtrain), average = 'macro'), recall_score(ytrain,  best_rand_macro.predict(xtrain), average = 'macro'), recall_score(ytrain,  grid_search_macro.predict(xtrain), average = 'macro')\n"
   ]
  },
  {
   "cell_type": "code",
   "execution_count": 247,
   "id": "0e6f6f0e-399e-4990-884e-a2f6d54dc867",
   "metadata": {},
   "outputs": [
    {
     "name": "stdout",
     "output_type": "stream",
     "text": [
      "0.5701733442452883 0.5974690460601023 0.5976874624586557\n"
     ]
    }
   ],
   "source": [
    "print(np.mean(cross_val_score(randomforest_bal, xtrain, ytrain, cv=kf2, scoring = make_scorer(recall_score, average = 'macro'))),np.mean(cross_val_score(best_rand_macro, xtrain, ytrain, cv=kf2, scoring = make_scorer(recall_score, average = 'macro'))), \n",
    "np.mean(cross_val_score(best_grid_macro, xtrain, ytrain, cv=kf2, scoring = make_scorer(recall_score, average = 'macro'))))\n"
   ]
  },
  {
   "cell_type": "code",
   "execution_count": 248,
   "id": "ed0df6ce-bd71-45e0-9999-f296c22f829e",
   "metadata": {},
   "outputs": [
    {
     "data": {
      "text/plain": [
       "(0.5819533254979122, 0.603205693731695, 0.6029973475904136)"
      ]
     },
     "execution_count": 248,
     "metadata": {},
     "output_type": "execute_result"
    }
   ],
   "source": [
    "recall_score(ytest,  randomforest_bal.predict(xtest), average = 'macro'), recall_score(ytest,  best_rand_macro.predict(xtest), average = 'macro'), recall_score(ytest,  grid_search_macro.predict(xtest), average = 'macro')\n"
   ]
  },
  {
   "cell_type": "code",
   "execution_count": 267,
   "id": "88901d42-5409-4b4e-98a2-63c9cdf41c33",
   "metadata": {},
   "outputs": [
    {
     "data": {
      "text/html": [
       "<div>\n",
       "<style scoped>\n",
       "    .dataframe tbody tr th:only-of-type {\n",
       "        vertical-align: middle;\n",
       "    }\n",
       "\n",
       "    .dataframe tbody tr th {\n",
       "        vertical-align: top;\n",
       "    }\n",
       "\n",
       "    .dataframe thead th {\n",
       "        text-align: right;\n",
       "    }\n",
       "</style>\n",
       "<table border=\"1\" class=\"dataframe\">\n",
       "  <thead>\n",
       "    <tr style=\"text-align: right;\">\n",
       "      <th></th>\n",
       "      <th>Feature</th>\n",
       "      <th>Importance</th>\n",
       "    </tr>\n",
       "  </thead>\n",
       "  <tbody>\n",
       "    <tr>\n",
       "      <th>0</th>\n",
       "      <td>Medical Issues</td>\n",
       "      <td>0.298457</td>\n",
       "    </tr>\n",
       "    <tr>\n",
       "      <th>1</th>\n",
       "      <td>Normal Condition</td>\n",
       "      <td>0.233938</td>\n",
       "    </tr>\n",
       "    <tr>\n",
       "      <th>2</th>\n",
       "      <td>Spayed/Neutered</td>\n",
       "      <td>0.061260</td>\n",
       "    </tr>\n",
       "    <tr>\n",
       "      <th>3</th>\n",
       "      <td>Kitten/Puppy</td>\n",
       "      <td>0.052050</td>\n",
       "    </tr>\n",
       "    <tr>\n",
       "      <th>4</th>\n",
       "      <td>Owner Surrendered</td>\n",
       "      <td>0.051035</td>\n",
       "    </tr>\n",
       "    <tr>\n",
       "      <th>5</th>\n",
       "      <td>Public Assist</td>\n",
       "      <td>0.048111</td>\n",
       "    </tr>\n",
       "    <tr>\n",
       "      <th>6</th>\n",
       "      <td>Dog/Cat</td>\n",
       "      <td>0.046388</td>\n",
       "    </tr>\n",
       "    <tr>\n",
       "      <th>7</th>\n",
       "      <td>Neonatal</td>\n",
       "      <td>0.036177</td>\n",
       "    </tr>\n",
       "    <tr>\n",
       "      <th>8</th>\n",
       "      <td>Stray</td>\n",
       "      <td>0.035026</td>\n",
       "    </tr>\n",
       "    <tr>\n",
       "      <th>9</th>\n",
       "      <td>Euthanasia Request</td>\n",
       "      <td>0.029027</td>\n",
       "    </tr>\n",
       "  </tbody>\n",
       "</table>\n",
       "</div>"
      ],
      "text/plain": [
       "              Feature  Importance\n",
       "0      Medical Issues    0.298457\n",
       "1    Normal Condition    0.233938\n",
       "2     Spayed/Neutered    0.061260\n",
       "3        Kitten/Puppy    0.052050\n",
       "4   Owner Surrendered    0.051035\n",
       "5       Public Assist    0.048111\n",
       "6             Dog/Cat    0.046388\n",
       "7            Neonatal    0.036177\n",
       "8               Stray    0.035026\n",
       "9  Euthanasia Request    0.029027"
      ]
     },
     "execution_count": 267,
     "metadata": {},
     "output_type": "execute_result"
    }
   ],
   "source": [
    "feature_importance = pd.DataFrame(feats_dummy.columns).merge(pd.DataFrame(best_rand_macro.feature_importances_), left_index = True, right_index = True)\n",
    "\n",
    "feature_importance.columns = ['Feature', 'Importance']\n",
    "\n",
    "feature_importance.sort_values(by = 'Importance', inplace = True, ignore_index = True, ascending = False)\n",
    "\n",
    "plot = feature_importance.iloc[:10].copy()\n",
    "\n",
    "plot.Feature = ['Medical Issues', 'Normal Condition', 'Spayed/Neutered', 'Kitten/Puppy', 'Owner Surrendered', 'Public Assist', 'Dog/Cat', 'Neonatal', 'Stray', 'Euthanasia Request']\n",
    "plot"
   ]
  },
  {
   "cell_type": "code",
   "execution_count": 269,
   "id": "71e71e66-24dd-4b5a-86f5-e7baec40a145",
   "metadata": {},
   "outputs": [
    {
     "data": {
      "image/png": "[encoded data removed]",
      "text/plain": [
       "<Figure size 864x576 with 1 Axes>"
      ]
     },
     "metadata": {
      "needs_background": "light"
     },
     "output_type": "display_data"
    }
   ],
   "source": [
    "plt.figure(figsize=(12,8))\n",
    "plt.title(\"Top 10 Features by Importance for Predicting Outcomes of Animal Intake\")\n",
    "sns.barplot(y = 'Feature', x = 'Importance', data=plot, color = 'blue');"
   ]
  },
  {
   "cell_type": "code",
   "execution_count": 254,
   "id": "860fee03-9d8c-4b11-8bd2-67d82f1061ca",
   "metadata": {},
   "outputs": [],
   "source": [
    "arr = confusion_matrix(ytest, best_rand_macro.predict(xtest), normalize = 'true')\n",
    "conf_mat = pd.DataFrame(arr, columns = ['Adoption', 'Euthanasia', 'Transfer/RTO'], index = ['Adoption', 'Euthanasia', 'Transfer/RTO'])"
   ]
  },
  {
   "cell_type": "code",
   "execution_count": 255,
   "id": "d221813b-9a4b-443a-9426-2d2a33d714b7",
   "metadata": {},
   "outputs": [
    {
     "data": {
      "image/png": "[encoded data removed]",
      "text/plain": [
       "<Figure size 432x288 with 2 Axes>"
      ]
     },
     "metadata": {
      "needs_background": "light"
     },
     "output_type": "display_data"
    }
   ],
   "source": [
    "sns.heatmap(data = conf_mat, annot = True, cmap = 'Blues');"
   ]
  },
  {
   "cell_type": "code",
   "execution_count": null,
   "id": "30228e92-53e6-4447-b57a-2a58110de529",
   "metadata": {},
   "outputs": [],
   "source": []
  }
 ],
 "metadata": {
  "kernelspec": {
   "display_name": "Python [conda env:metis] *",
   "language": "python",
   "name": "conda-env-metis-py"
  },
  "language_info": {
   "codemirror_mode": {
    "name": "ipython",
    "version": 3
   },
   "file_extension": ".py",
   "mimetype": "text/x-python",
   "name": "python",
   "nbconvert_exporter": "python",
   "pygments_lexer": "ipython3",
   "version": "3.8.8"
  }
 },
 "nbformat": 4,
 "nbformat_minor": 5
}
